{
  "nbformat": 4,
  "nbformat_minor": 0,
  "metadata": {
    "colab": {
      "name": "Mitosis_Det_YOLOv5.ipynb",
      "provenance": [],
      "collapsed_sections": []
    },
    "kernelspec": {
      "display_name": "Python 3",
      "name": "python3"
    },
    "language_info": {
      "name": "python"
    },
    "accelerator": "TPU"
  },
  "cells": [
    {
      "cell_type": "code",
      "metadata": {
        "colab": {
          "base_uri": "https://localhost:8080/"
        },
        "id": "LDQ_fWfcxsXZ",
        "outputId": "b3a8d561-6a29-4668-fe10-506f615448f1"
      },
      "source": [
        "!git clone https://github.com/ultralytics/yolov5  "
      ],
      "execution_count": null,
      "outputs": [
        {
          "output_type": "stream",
          "name": "stdout",
          "text": [
            "Cloning into 'yolov5'...\n",
            "remote: Enumerating objects: 10069, done.\u001b[K\n",
            "remote: Total 10069 (delta 0), reused 0 (delta 0), pack-reused 10069\u001b[K\n",
            "Receiving objects: 100% (10069/10069), 10.36 MiB | 7.02 MiB/s, done.\n",
            "Resolving deltas: 100% (6986/6986), done.\n"
          ]
        }
      ]
    },
    {
      "cell_type": "code",
      "metadata": {
        "id": "heHHFQFZyTlm"
      },
      "source": [
        "!pip install roboflow"
      ],
      "execution_count": null,
      "outputs": []
    }
  ]
}